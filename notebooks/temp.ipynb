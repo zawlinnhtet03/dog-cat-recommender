{
 "cells": [
  {
   "cell_type": "code",
   "execution_count": 1,
   "metadata": {},
   "outputs": [],
   "source": [
    "import pandas as pd\n",
    "df = pd.read_csv(\"cleaned_data2.csv\")  "
   ]
  },
  {
   "cell_type": "code",
   "execution_count": 2,
   "metadata": {},
   "outputs": [
    {
     "data": {
      "text/plain": [
       "Breed1_Name\n",
       "Mixed Breed             4606\n",
       "Domestic Short Hair     2738\n",
       "Domestic Medium Hair     942\n",
       "Tabby                    247\n",
       "Domestic Long Hair       238\n",
       "                        ... \n",
       "Bearded Collie             1\n",
       "Devon Rex                  1\n",
       "Fila Brasileiro            1\n",
       "Afghan Hound               1\n",
       "Entlebucher                1\n",
       "Name: count, Length: 171, dtype: int64"
      ]
     },
     "execution_count": 2,
     "metadata": {},
     "output_type": "execute_result"
    }
   ],
   "source": [
    "df['Breed1_Name'].value_counts()"
   ]
  },
  {
   "cell_type": "code",
   "execution_count": 3,
   "metadata": {},
   "outputs": [],
   "source": [
    "# Get all rows with 'Mixed Breed'\n",
    "mixed_breed_rows = df[df['Breed1_Name'] == 'Mixed Breed']\n",
    "\n",
    "# Randomly sample half of those rows\n",
    "rows_to_drop = mixed_breed_rows.sample(frac=0.5, random_state=1)\n",
    "\n",
    "# Drop the sampled rows from the original dataframe\n",
    "df = df.drop(rows_to_drop.index)"
   ]
  },
  {
   "cell_type": "code",
   "execution_count": 5,
   "metadata": {},
   "outputs": [
    {
     "data": {
      "text/plain": [
       "Breed1_Name\n",
       "Domestic Short Hair     2738\n",
       "Mixed Breed             2303\n",
       "Domestic Medium Hair     942\n",
       "Tabby                    247\n",
       "Domestic Long Hair       238\n",
       "                        ... \n",
       "Bearded Collie             1\n",
       "Devon Rex                  1\n",
       "Fila Brasileiro            1\n",
       "Afghan Hound               1\n",
       "Entlebucher                1\n",
       "Name: count, Length: 171, dtype: int64"
      ]
     },
     "execution_count": 5,
     "metadata": {},
     "output_type": "execute_result"
    }
   ],
   "source": [
    "df['Breed1_Name'].value_counts()"
   ]
  },
  {
   "cell_type": "code",
   "execution_count": 6,
   "metadata": {},
   "outputs": [],
   "source": [
    "df.to_csv('cleaned_data3.csv', index=False, encoding='utf-8')"
   ]
  }
 ],
 "metadata": {
  "kernelspec": {
   "display_name": "myenv",
   "language": "python",
   "name": "python3"
  },
  "language_info": {
   "codemirror_mode": {
    "name": "ipython",
    "version": 3
   },
   "file_extension": ".py",
   "mimetype": "text/x-python",
   "name": "python",
   "nbconvert_exporter": "python",
   "pygments_lexer": "ipython3",
   "version": "3.11.0"
  }
 },
 "nbformat": 4,
 "nbformat_minor": 2
}
